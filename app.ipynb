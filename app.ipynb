{
 "cells": [
  {
   "cell_type": "code",
   "execution_count": null,
   "id": "43cb67d4",
   "metadata": {},
   "outputs": [
    {
     "name": "stdout",
     "output_type": "stream",
     "text": [
      " * Serving Flask app \"__main__\" (lazy loading)\n",
      " * Environment: production\n",
      "   WARNING: This is a development server. Do not use it in a production deployment.\n",
      "   Use a production WSGI server instead.\n",
      " * Debug mode: off\n"
     ]
    },
    {
     "name": "stderr",
     "output_type": "stream",
     "text": [
      " * Running on http://127.0.0.1:5000/ (Press CTRL+C to quit)\n",
      "127.0.0.1 - - [25/Aug/2021 17:34:53] \"\u001b[37mGET / HTTP/1.1\u001b[0m\" 200 -\n",
      "127.0.0.1 - - [25/Aug/2021 17:34:54] \"\u001b[33mGET /favicon.ico HTTP/1.1\u001b[0m\" 404 -\n",
      "127.0.0.1 - - [25/Aug/2021 17:35:24] \"\u001b[37mGET / HTTP/1.1\u001b[0m\" 200 -\n",
      "127.0.0.1 - - [25/Aug/2021 17:35:28] \"\u001b[33mGET /favicon.ico HTTP/1.1\u001b[0m\" 404 -\n",
      "Some weights of the model checkpoint at akhooli/xlm-r-large-arabic-sent were not used when initializing XLMRobertaForSequenceClassification: ['roberta.pooler.dense.bias', 'roberta.pooler.dense.weight']\n",
      "- This IS expected if you are initializing XLMRobertaForSequenceClassification from the checkpoint of a model trained on another task or with another architecture (e.g. initializing a BertForSequenceClassification model from a BertForPreTraining model).\n",
      "- This IS NOT expected if you are initializing XLMRobertaForSequenceClassification from the checkpoint of a model that you expect to be exactly identical (initializing a BertForSequenceClassification model from a BertForSequenceClassification model).\n",
      "127.0.0.1 - - [25/Aug/2021 17:35:48] \"\u001b[37mPOST / HTTP/1.1\u001b[0m\" 200 -\n"
     ]
    }
   ],
   "source": [
    "from flask import Flask, render_template, request, redirect, url_for\n",
    "from transformers import pipeline\n",
    "import math\n",
    "import sentiment_analysis\n",
    "\n",
    "app = Flask(__name__)\n",
    "app.config[\"IMAGE_UPLOADS\"] = r\"C:\\Users\\hp\\Documents\\project-nlp\\App\\static\"\n",
    "@app.route('/',methods=['GET','POST'])\n",
    "\n",
    "def index():\n",
    "    if request.method == 'POST':\n",
    "        \n",
    "        text=request.form[\"text\"]\n",
    "        lang=request.form[\"lang\"]\n",
    "\n",
    "        if lang==\"1\":\n",
    "            result= sentiment_analysis.ang_sentiment(text)\n",
    "            if result[0]['score']<0.55 and result[0]['score']>0.45:\n",
    "                result[0]['label']=\"NEUTRAL\"\n",
    "        elif lang==\"2\":\n",
    "            result= sentiment_analysis.fr_sentiment(text)\n",
    "            if result[0]['score']<0.55 and result[0]['score']>0.45:\n",
    "                result[0]['label']=\"NEUTRAL\"\n",
    "        else:\n",
    "            result= sentiment_analysis.ar_sentiment(text)\n",
    "            if result[0]['label']==\"LABEL_0\":\n",
    "                result[0]['label']=\"NEUTRAL\"\n",
    "                \n",
    "            elif result[0]['label']==\"LABEL_1\":\n",
    "                result[0]['label']=\"NEGATIVE\"\n",
    "\n",
    "            else:\n",
    "                result[0]['label']=\"POSITIVE\"\n",
    "\n",
    "        n = ((100-math.floor(result[0]['score']*100))/100)*math.pi*(115*2)\n",
    "\n",
    "        return render_template(\"index.html\",number= n,text=text ,note=result[0]['label'],result=result[0]['score'])\n",
    " \n",
    "    return render_template(\"index.html\",number=720,result=0)\n",
    " \n",
    "if __name__ == \"__main__\":\n",
    "    app.run()"
   ]
  },
  {
   "cell_type": "code",
   "execution_count": null,
   "id": "22a02b8c",
   "metadata": {},
   "outputs": [],
   "source": []
  }
 ],
 "metadata": {
  "kernelspec": {
   "display_name": "Python 3 (ipykernel)",
   "language": "python",
   "name": "python3"
  },
  "language_info": {
   "codemirror_mode": {
    "name": "ipython",
    "version": 3
   },
   "file_extension": ".py",
   "mimetype": "text/x-python",
   "name": "python",
   "nbconvert_exporter": "python",
   "pygments_lexer": "ipython3",
   "version": "3.8.0"
  }
 },
 "nbformat": 4,
 "nbformat_minor": 5
}

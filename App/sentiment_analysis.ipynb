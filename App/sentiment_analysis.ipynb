{
 "cells": [
  {
   "cell_type": "code",
   "execution_count": 9,
   "id": "4c7dcf86",
   "metadata": {},
   "outputs": [],
   "source": [
    "from transformers import pipeline\n",
    "from transformers import AutoTokenizer,TFAutoModelForSequenceClassification\n",
    "from transformers import AutoTokenizer, AutoModelForSequenceClassification\n",
    "import string\n",
    "from nltk.corpus import stopwords\n",
    "from nltk.tokenize import word_tokenize\n",
    "from nltk import pos_tag\n",
    "import re"
   ]
  },
  {
   "cell_type": "code",
   "execution_count": 10,
   "id": "fe7b9f03",
   "metadata": {},
   "outputs": [],
   "source": [
    "def ang_sentiment(text):\n",
    "    lower_case= text.lower()\n",
    "    cleaned_text = lower_case.translate(str.maketrans('','',string.punctuation))\n",
    "    tokenized_words = word_tokenize(cleaned_text,\"english\")\n",
    "    \n",
    "    final_words=[]\n",
    "    for word in tokenized_words:\n",
    "        if word not in stopwords.words(\"english\"):\n",
    "            final_words.append(word)\n",
    "\n",
    "    result=\" \".join(final_words)\n",
    "    nlp = pipeline('sentiment-analysis')\n",
    "    return (nlp(result))"
   ]
  },
  {
   "cell_type": "code",
   "execution_count": 11,
   "id": "173ee2bb",
   "metadata": {},
   "outputs": [],
   "source": [
    "def fr_sentiment(text):\n",
    "    lower_case= text.lower()\n",
    "    cleaned_text = lower_case.translate(str.maketrans('','',string.punctuation))\n",
    "    tokenized_words = word_tokenize(cleaned_text,\"french\")\n",
    "\n",
    "    tokenizer = AutoTokenizer.from_pretrained(\"tblard/tf-allocine\")\n",
    "    model = TFAutoModelForSequenceClassification.from_pretrained(\"tblard/tf-allocine\")\n",
    "\n",
    "\n",
    "    final_words=[]\n",
    "    for word in tokenized_words:\n",
    "        if word not in stopwords.words(\"french\"):\n",
    "            final_words.append(word)\n",
    "\n",
    "    result=\" \".join(final_words)\n",
    "    nlp = pipeline('sentiment-analysis',model=model,tokenizer=tokenizer)\n",
    "    return (nlp(result))"
   ]
  },
  {
   "cell_type": "code",
   "execution_count": 12,
   "id": "400607eb",
   "metadata": {},
   "outputs": [],
   "source": [
    "def ar_sentiment(text):\n",
    "    arabic_punctuations = '''`÷×؛<>_()*&^%][ـ،/:\"؟.,'{}~¦+|!”…“–ـ'''\n",
    "    english_punctuations = string.punctuation\n",
    "    punctuations_list = arabic_punctuations + english_punctuations\n",
    "    arabic_diacritics = re.compile(\"\"\"\n",
    "                                 ّ    | # Tashdid\n",
    "                                 َ    | # Fatha\n",
    "                                 ً    | # Tanwin Fath\n",
    "                                 ُ    | # Damma\n",
    "                                 ٌ    | # Tanwin Damm\n",
    "                                 ِ    | # Kasra\n",
    "                                 ٍ    | # Tanwin Kasr\n",
    "                                 ْ    | # Sukun\n",
    "                                 ـ     # Tatwil/Kashida\n",
    "                             \"\"\", re.VERBOSE)\n",
    "    translator = str.maketrans('', '', punctuations_list)\n",
    "    text=text.translate(translator)\n",
    "\n",
    "    text = re.sub(arabic_diacritics, '', text)\n",
    "\n",
    "    text=re.sub(r'(.)\\1+', r'\\1', text)\n",
    "    \n",
    "    tokenized_words = word_tokenize(text)\n",
    "    \n",
    "    sw=stopwords.words('arabic')\n",
    "    tokens=[i for i in tokenized_words if not i in sw]\n",
    "\n",
    "    result=\" \".join(tokens)\n",
    "    \n",
    "    tokenizer = AutoTokenizer.from_pretrained(\"akhooli/xlm-r-large-arabic-sent\")\n",
    "\n",
    "    model = AutoModelForSequenceClassification.from_pretrained(\"akhooli/xlm-r-large-arabic-sent\")\n",
    "\n",
    "    nlp = pipeline(\"sentiment-analysis\",model=model,tokenizer=tokenizer)\n",
    "\n",
    "    return (nlp(result))"
   ]
  },
  {
   "cell_type": "code",
   "execution_count": null,
   "id": "22fec6c5",
   "metadata": {},
   "outputs": [],
   "source": []
  }
 ],
 "metadata": {
  "kernelspec": {
   "display_name": "Python 3 (ipykernel)",
   "language": "python",
   "name": "python3"
  },
  "language_info": {
   "codemirror_mode": {
    "name": "ipython",
    "version": 3
   },
   "file_extension": ".py",
   "mimetype": "text/x-python",
   "name": "python",
   "nbconvert_exporter": "python",
   "pygments_lexer": "ipython3",
   "version": "3.8.0"
  }
 },
 "nbformat": 4,
 "nbformat_minor": 5
}
